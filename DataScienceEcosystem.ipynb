{
 "cells": [
  {
   "cell_type": "markdown",
   "id": "8a8e5fcf-2b60-44f8-802a-63923f52412c",
   "metadata": {},
   "source": [
    "# Data Science Tools and Ecosystem"
   ]
  },
  {
   "cell_type": "markdown",
   "id": "0c7a7d71-638a-4d0b-bc12-3cdcd14f7013",
   "metadata": {},
   "source": [
    "In this notebook, Data Science Tools and Ecosystem are summarized."
   ]
  },
  {
   "cell_type": "markdown",
   "id": "f666bdd0-ab9a-4a5f-9fd0-f7efada2b2e9",
   "metadata": {},
   "source": [
    "**Objectives:**\n",
    "\n",
    "- List the popular languages for Data Science\n",
    "- List the commonly used Libraries by Data Scientists\n",
    "- List commonly ustilised Data Science Tools\n",
    "- Evaluate Arithmetic Expressions in Python"
   ]
  },
  {
   "cell_type": "markdown",
   "id": "62f08cb4-eeee-4a84-96a6-06b65150401d",
   "metadata": {},
   "source": [
    "Some of the popular languages that Data Scientists use are:\n",
    "1. Python\n",
    "2. R\n",
    "3. Julia\n",
    "4. Scala"
   ]
  },
  {
   "cell_type": "markdown",
   "id": "d278ad89-0282-4b12-a98d-c10904c2bdb2",
   "metadata": {},
   "source": [
    "Some of the commonly used libraries used by Data Scientists include:\n",
    "1. NumPy\n",
    "2. Pandas\n",
    "3. Matplotlib\n",
    "4. Seaborn"
   ]
  },
  {
   "cell_type": "markdown",
   "id": "37ac0bb4-25c9-459b-8bd6-df1da7862af4",
   "metadata": {},
   "source": [
    "| Data Science Tools |\r",
    "|:-------------------|\r\n",
    "| Jupyter Notebook   |\r\n",
    "| RStudio            |\r\n",
    "| VS Code            |"
   ]
  },
  {
   "cell_type": "markdown",
   "id": "bdab0efc-c694-4770-9769-05f62e2452c4",
   "metadata": {},
   "source": [
    "### Below are a few examples of evaluating arithmetic expressions in Python."
   ]
  },
  {
   "cell_type": "code",
   "execution_count": 37,
   "id": "b41087bf-7c58-4cac-81d3-bfa865691d18",
   "metadata": {},
   "outputs": [
    {
     "data": {
      "text/plain": [
       "17"
      ]
     },
     "execution_count": 37,
     "metadata": {},
     "output_type": "execute_result"
    }
   ],
   "source": [
    "# This a simple arithmetic expression to mutiply then add integers\n",
    "(3*4)+5"
   ]
  },
  {
   "cell_type": "code",
   "execution_count": 47,
   "id": "e3e15b7b-dff1-4b45-9db7-6e22708b0087",
   "metadata": {},
   "outputs": [
    {
     "data": {
      "text/plain": [
       "3.3333333333333335"
      ]
     },
     "execution_count": 47,
     "metadata": {},
     "output_type": "execute_result"
    }
   ],
   "source": [
    "# This will convert 200 minutes to hours by diving by 60\n",
    "200 / 60"
   ]
  },
  {
   "cell_type": "markdown",
   "id": "a6acf2cf-c924-4443-9316-fbc194f39bee",
   "metadata": {},
   "source": [
    "## Author\n",
    "Umer Sohail"
   ]
  },
 "metadata": {
  "kernelspec": {
   "display_name": "Python 3 (ipykernel)",
   "language": "python",
   "name": "python3"
  },
  "language_info": {
   "codemirror_mode": {
    "name": "ipython",
    "version": 3
   },
   "file_extension": ".py",
   "mimetype": "text/x-python",
   "name": "python",
   "nbconvert_exporter": "python",
   "pygments_lexer": "ipython3",
   "version": "3.12.4"
  }
 },
 "nbformat": 4,
 "nbformat_minor": 5
}
